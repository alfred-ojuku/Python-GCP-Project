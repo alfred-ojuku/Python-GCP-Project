{
 "cells": [
  {
   "cell_type": "code",
   "execution_count": 10,
   "id": "4c89ee12",
   "metadata": {},
   "outputs": [],
   "source": [
    "import os\n",
    "from google.cloud import bigquery"
   ]
  },
  {
   "cell_type": "code",
   "execution_count": 17,
   "id": "6ac5ab68",
   "metadata": {},
   "outputs": [],
   "source": [
    "os.environ[\"GOOGLE_APPLICATION_CREDENTIALS\"] = \"D:\\\\Roam\\\\data-warehouse-355508-4c99e2f51463.json\""
   ]
  },
  {
   "cell_type": "code",
   "execution_count": null,
   "id": "81541511",
   "metadata": {},
   "outputs": [],
   "source": [
    "def check_vin_exists(vin):\n",
    "    try:\n",
    "        # Initialize BigQuery client\n",
    "        client = bigquery.Client()\n",
    "        \n",
    "\n",
    "        # Construct and execute the query\n",
    "        query = f\"SELECT serial_no FROM dbt_alfred.mrt_vin_table WHERE serial_no = '{vin}'\"\n",
    "        query_job = client.query(query)\n",
    "        results = query_job.result()\n",
    "    \n",
    "        \n",
    "        # Check if there's a matching VIN\n",
    "        return any(row.serial_no == vin for row in results)\n",
    "\n",
    "    except Exception as e:\n",
    "        print(f\"Error: {e}\")\n",
    "        return False\n",
    "\n",
    "if __name__ == '__main__':\n",
    "    entered_vin = input(\"Enter the VIN to check: \")\n",
    "    vin_exists = check_vin_exists(entered_vin)\n",
    "\n",
    "    if vin_exists:\n",
    "        print(\"VIN exists in the table.\")\n",
    "    else:\n",
    "        print(\"VIN does not exist in the table.\")\n"
   ]
  },
  {
   "cell_type": "code",
   "execution_count": null,
   "id": "3ad8d946",
   "metadata": {},
   "outputs": [],
   "source": []
  }
 ],
 "metadata": {
  "kernelspec": {
   "display_name": "Python 3 (ipykernel)",
   "language": "python",
   "name": "python3"
  },
  "language_info": {
   "codemirror_mode": {
    "name": "ipython",
    "version": 3
   },
   "file_extension": ".py",
   "mimetype": "text/x-python",
   "name": "python",
   "nbconvert_exporter": "python",
   "pygments_lexer": "ipython3",
   "version": "3.8.5"
  }
 },
 "nbformat": 4,
 "nbformat_minor": 5
}
